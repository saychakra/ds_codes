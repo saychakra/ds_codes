{
 "cells": [
  {
   "cell_type": "code",
   "execution_count": 1,
   "id": "6a8aae8f",
   "metadata": {},
   "outputs": [],
   "source": [
    "import numpy as np"
   ]
  },
  {
   "cell_type": "markdown",
   "id": "7f9184ab",
   "metadata": {},
   "source": [
    "### Motivation\n",
    "\n",
    "Running gradient descent for a linear regression model\n",
    "y = wx + b\n",
    "\n",
    "In this case - using y = 2x (b is 0)"
   ]
  },
  {
   "cell_type": "code",
   "execution_count": 2,
   "id": "8a5486c4",
   "metadata": {},
   "outputs": [],
   "source": [
    "# X: input features\n",
    "# y: target values\n",
    "X = np.array([1, 2, 3, 4, 5])\n",
    "y = np.array([2, 4, 6, 8, 10])  # y = 2x, perfect linear relationship"
   ]
  },
  {
   "cell_type": "code",
   "execution_count": null,
   "id": "eef5f941",
   "metadata": {},
   "outputs": [],
   "source": [
    "# Initialize parameters\n",
    "w = 0.0\n",
    "b = 0.0\n",
    "\n",
    "# Learning rate and iterations\n",
    "alpha = 0.01\n",
    "epochs = 1000\n",
    "\n",
    "n = len(X)  # number of samples"
   ]
  }
 ],
 "metadata": {
  "kernelspec": {
   "display_name": "Python 3",
   "language": "python",
   "name": "python3"
  },
  "language_info": {
   "codemirror_mode": {
    "name": "ipython",
    "version": 3
   },
   "file_extension": ".py",
   "mimetype": "text/x-python",
   "name": "python",
   "nbconvert_exporter": "python",
   "pygments_lexer": "ipython3",
   "version": "3.12.1"
  }
 },
 "nbformat": 4,
 "nbformat_minor": 5
}
