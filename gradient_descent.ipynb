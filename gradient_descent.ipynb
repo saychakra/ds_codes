{
 "cells": [
  {
   "cell_type": "code",
   "execution_count": 2,
   "id": "6a8aae8f",
   "metadata": {},
   "outputs": [],
   "source": [
    "import numpy as np"
   ]
  },
  {
   "cell_type": "markdown",
   "id": "7f9184ab",
   "metadata": {},
   "source": [
    "### Motivation\n",
    "\n",
    "Running gradient descent for a linear regression model\n",
    "\n",
    "$$\n",
    "y = wx + b\n",
    "$$\n",
    "\n",
    "In this case - using \n",
    "\n",
    "$$\n",
    "y = 2x\n",
    "$$\n",
    "and (b is 0)"
   ]
  },
  {
   "cell_type": "code",
   "execution_count": 3,
   "id": "8a5486c4",
   "metadata": {},
   "outputs": [],
   "source": [
    "# X: input features\n",
    "# y: target values\n",
    "X = np.array([1, 2, 3, 4, 5])\n",
    "y = np.array([2, 4, 6, 8, 10])  # y = 2x, perfect linear relationship"
   ]
  },
  {
   "cell_type": "markdown",
   "id": "96f282ab",
   "metadata": {},
   "source": [
    "### Gradient of MSE Loss\n",
    "\n",
    "We define the loss:\n",
    "\n",
    "$$\n",
    "L = \\frac{1}{n} \\sum_{i=1}^n (y_i - \\hat{y}_i)^2, \\quad \\hat{y}_i = w x_i + b\n",
    "$$\n",
    "\n",
    "---\n",
    "\n",
    "#### Derivative w.r.t. \\( w \\):\n",
    "\n",
    "$$\n",
    "\\frac{\\partial L}{\\partial w}\n",
    "= \\frac{1}{n} \\sum_{i=1}^n 2(y_i - \\hat{y}_i)(-x_i)\n",
    "= -\\frac{2}{n} \\sum_{i=1}^n x_i (y_i - \\hat{y}_i)\n",
    "$$\n",
    "\n",
    "---\n",
    "\n",
    "#### Derivative w.r.t. \\( b \\):\n",
    "\n",
    "$$\n",
    "\\frac{\\partial L}{\\partial b}\n",
    "= \\frac{1}{n} \\sum_{i=1}^n 2(y_i - \\hat{y}_i)(-1)\n",
    "= -\\frac{2}{n} \\sum_{i=1}^n (y_i - \\hat{y}_i)\n",
    "$$\n"
   ]
  },
  {
   "cell_type": "code",
   "execution_count": 4,
   "id": "8629aa98",
   "metadata": {},
   "outputs": [],
   "source": [
    "# Initialize parameters\n",
    "w = 0.0\n",
    "b = 0.0\n",
    "\n",
    "# Learning rate and iterations\n",
    "alpha = 0.01\n",
    "epochs = 1000\n",
    "\n",
    "n = len(X)  # number of samples"
   ]
  },
  {
   "cell_type": "code",
   "execution_count": null,
   "id": "135c5841",
   "metadata": {},
   "outputs": [],
   "source": []
  }
 ],
 "metadata": {
  "kernelspec": {
   "display_name": "Python 3",
   "language": "python",
   "name": "python3"
  },
  "language_info": {
   "codemirror_mode": {
    "name": "ipython",
    "version": 3
   },
   "file_extension": ".py",
   "mimetype": "text/x-python",
   "name": "python",
   "nbconvert_exporter": "python",
   "pygments_lexer": "ipython3",
   "version": "3.12.1"
  }
 },
 "nbformat": 4,
 "nbformat_minor": 5
}
