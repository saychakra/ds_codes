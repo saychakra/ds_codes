{
 "cells": [
  {
   "cell_type": "code",
   "execution_count": 1,
   "id": "9feb68fe",
   "metadata": {},
   "outputs": [],
   "source": [
    "import numpy as np"
   ]
  },
  {
   "cell_type": "code",
   "execution_count": 2,
   "id": "b1f0ef28",
   "metadata": {},
   "outputs": [],
   "source": [
    "actual_ls = [1, 1, 0, 0, 0, 0, 1, 0, 1, 1, 1]\n",
    "predicted_ls = [1, 1, 1, 0, 0, 1, 1, 0, 0, 1, 1]"
   ]
  },
  {
   "cell_type": "code",
   "execution_count": 3,
   "id": "ef5ddd46",
   "metadata": {},
   "outputs": [],
   "source": [
    "tp, fp, tn, fn = 0, 0, 0, 0"
   ]
  },
  {
   "cell_type": "code",
   "execution_count": 4,
   "id": "75e02371",
   "metadata": {},
   "outputs": [],
   "source": [
    "for actual, predicted in zip(actual_ls, predicted_ls):\n",
    "    if actual == 1 and predicted == 1:\n",
    "        tp += 1\n",
    "    elif actual == 0 and predicted == 1:\n",
    "        fp += 1\n",
    "    elif actual == 1 and predicted == 0:\n",
    "        fn += 1\n",
    "    elif actual == 0 and predicted == 0:\n",
    "        tn += 1"
   ]
  },
  {
   "cell_type": "code",
   "execution_count": 5,
   "id": "69db6e11",
   "metadata": {},
   "outputs": [],
   "source": [
    "precision = tp / (tp + fp) # true positives by all the predicted positives\n",
    "recall = tp / (tp + fn) # true positives by all the actual positives\n",
    "f1_score = 2 * (precision * recall) / (precision + recall)"
   ]
  },
  {
   "cell_type": "code",
   "execution_count": 6,
   "id": "5981f0a3",
   "metadata": {},
   "outputs": [
    {
     "name": "stdout",
     "output_type": "stream",
     "text": [
      "Precision :: 0.71\n",
      "Recall :: 0.83\n",
      "F1 Score :: 0.77\n"
     ]
    }
   ],
   "source": [
    "print(f\"Precision :: {round(precision, 2)}\\nRecall :: {round(recall, 2)}\\nF1 Score :: {round(f1_score, 2)}\")"
   ]
  },
  {
   "cell_type": "code",
   "execution_count": null,
   "id": "0b6fc164",
   "metadata": {},
   "outputs": [
    {
     "name": "stdout",
     "output_type": "stream",
     "text": [
      "Precision: 0.71\n",
      "Recall:    0.83\n",
      "F1 Score:  0.77\n"
     ]
    }
   ],
   "source": [
    "## verification from library functions\n",
    "from sklearn.metrics import precision_score, recall_score, f1_score\n",
    "\n",
    "precision_lib = precision_score(actual_ls, predicted_ls)\n",
    "recall_lib = recall_score(actual_ls, predicted_ls)\n",
    "f1_lib = f1_score(actual_ls, predicted_ls)\n",
    "\n",
    "print(f\"Precision: {precision_lib:.2f}\")\n",
    "print(f\"Recall:    {recall_lib:.2f}\")\n",
    "print(f\"F1 Score:  {f1_lib:.2f}\")"
   ]
  }
 ],
 "metadata": {
  "kernelspec": {
   "display_name": "Python 3",
   "language": "python",
   "name": "python3"
  },
  "language_info": {
   "codemirror_mode": {
    "name": "ipython",
    "version": 3
   },
   "file_extension": ".py",
   "mimetype": "text/x-python",
   "name": "python",
   "nbconvert_exporter": "python",
   "pygments_lexer": "ipython3",
   "version": "3.12.1"
  }
 },
 "nbformat": 4,
 "nbformat_minor": 5
}
