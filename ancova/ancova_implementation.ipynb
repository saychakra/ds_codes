{
 "cells": [
  {
   "cell_type": "code",
   "execution_count": 9,
   "id": "c74659da",
   "metadata": {},
   "outputs": [],
   "source": [
    "import pandas as pd\n",
    "import numpy as np\n",
    "from statsmodels.formula.api import ols"
   ]
  },
  {
   "cell_type": "code",
   "execution_count": 2,
   "id": "8bed7153",
   "metadata": {},
   "outputs": [],
   "source": [
    "data = pd.read_csv(\"user_data.csv\")"
   ]
  },
  {
   "cell_type": "code",
   "execution_count": 3,
   "id": "f2e690bb",
   "metadata": {},
   "outputs": [
    {
     "data": {
      "text/plain": [
       "(500, 9)"
      ]
     },
     "execution_count": 3,
     "metadata": {},
     "output_type": "execute_result"
    }
   ],
   "source": [
    "data.shape"
   ]
  },
  {
   "cell_type": "code",
   "execution_count": 4,
   "id": "2d5a9744",
   "metadata": {},
   "outputs": [
    {
     "data": {
      "text/html": [
       "<div>\n",
       "<style scoped>\n",
       "    .dataframe tbody tr th:only-of-type {\n",
       "        vertical-align: middle;\n",
       "    }\n",
       "\n",
       "    .dataframe tbody tr th {\n",
       "        vertical-align: top;\n",
       "    }\n",
       "\n",
       "    .dataframe thead th {\n",
       "        text-align: right;\n",
       "    }\n",
       "</style>\n",
       "<table border=\"1\" class=\"dataframe\">\n",
       "  <thead>\n",
       "    <tr style=\"text-align: right;\">\n",
       "      <th></th>\n",
       "      <th>user_id</th>\n",
       "      <th>baseline_watch_time</th>\n",
       "      <th>age</th>\n",
       "      <th>region</th>\n",
       "      <th>device_type</th>\n",
       "      <th>subscription_status</th>\n",
       "      <th>session_count_last_week</th>\n",
       "      <th>homepage_version</th>\n",
       "      <th>post_watch_time</th>\n",
       "    </tr>\n",
       "  </thead>\n",
       "  <tbody>\n",
       "    <tr>\n",
       "      <th>0</th>\n",
       "      <td>0</td>\n",
       "      <td>138.730361</td>\n",
       "      <td>38</td>\n",
       "      <td>US</td>\n",
       "      <td>Desktop</td>\n",
       "      <td>Premium</td>\n",
       "      <td>9</td>\n",
       "      <td>0</td>\n",
       "      <td>76.332293</td>\n",
       "    </tr>\n",
       "    <tr>\n",
       "      <th>1</th>\n",
       "      <td>1</td>\n",
       "      <td>71.647308</td>\n",
       "      <td>49</td>\n",
       "      <td>US</td>\n",
       "      <td>Tablet</td>\n",
       "      <td>Free</td>\n",
       "      <td>8</td>\n",
       "      <td>1</td>\n",
       "      <td>38.604333</td>\n",
       "    </tr>\n",
       "    <tr>\n",
       "      <th>2</th>\n",
       "      <td>2</td>\n",
       "      <td>74.154847</td>\n",
       "      <td>44</td>\n",
       "      <td>EU</td>\n",
       "      <td>Mobile</td>\n",
       "      <td>Free</td>\n",
       "      <td>6</td>\n",
       "      <td>0</td>\n",
       "      <td>16.122792</td>\n",
       "    </tr>\n",
       "    <tr>\n",
       "      <th>3</th>\n",
       "      <td>3</td>\n",
       "      <td>57.810941</td>\n",
       "      <td>25</td>\n",
       "      <td>EU</td>\n",
       "      <td>Tablet</td>\n",
       "      <td>Premium</td>\n",
       "      <td>10</td>\n",
       "      <td>0</td>\n",
       "      <td>37.294173</td>\n",
       "    </tr>\n",
       "    <tr>\n",
       "      <th>4</th>\n",
       "      <td>4</td>\n",
       "      <td>115.962229</td>\n",
       "      <td>61</td>\n",
       "      <td>US</td>\n",
       "      <td>Tablet</td>\n",
       "      <td>Free</td>\n",
       "      <td>6</td>\n",
       "      <td>0</td>\n",
       "      <td>30.219337</td>\n",
       "    </tr>\n",
       "  </tbody>\n",
       "</table>\n",
       "</div>"
      ],
      "text/plain": [
       "   user_id  baseline_watch_time  age region device_type subscription_status  \\\n",
       "0        0           138.730361   38     US     Desktop             Premium   \n",
       "1        1            71.647308   49     US      Tablet                Free   \n",
       "2        2            74.154847   44     EU      Mobile                Free   \n",
       "3        3            57.810941   25     EU      Tablet             Premium   \n",
       "4        4           115.962229   61     US      Tablet                Free   \n",
       "\n",
       "   session_count_last_week  homepage_version  post_watch_time  \n",
       "0                        9                 0        76.332293  \n",
       "1                        8                 1        38.604333  \n",
       "2                        6                 0        16.122792  \n",
       "3                       10                 0        37.294173  \n",
       "4                        6                 0        30.219337  "
      ]
     },
     "execution_count": 4,
     "metadata": {},
     "output_type": "execute_result"
    }
   ],
   "source": [
    "data.head()"
   ]
  },
  {
   "cell_type": "markdown",
   "id": "1d6df0c6",
   "metadata": {},
   "source": [
    "#### Assigning the independent variable of choice (grouping variable) `homepage_version` - through a binomial distribution\n",
    "We basically want to assing whether a particular user is in the control group or the other group hence we're sampling values out of a binomial distribution"
   ]
  },
  {
   "cell_type": "code",
   "execution_count": 5,
   "id": "64f68d04",
   "metadata": {},
   "outputs": [],
   "source": [
    "# data['homepage_version'] = np.random.binomial(n=1, p=0.5, size=data.shape[0])"
   ]
  },
  {
   "cell_type": "code",
   "execution_count": 7,
   "id": "a3162d50",
   "metadata": {},
   "outputs": [
    {
     "data": {
      "text/plain": [
       "homepage_version\n",
       "1    265\n",
       "0    235\n",
       "Name: count, dtype: int64"
      ]
     },
     "execution_count": 7,
     "metadata": {},
     "output_type": "execute_result"
    }
   ],
   "source": [
    "data['homepage_version'].value_counts()"
   ]
  },
  {
   "cell_type": "markdown",
   "id": "ff7c9bd2",
   "metadata": {},
   "source": [
    "#### Writing the linear expression for ANCOVA\n",
    "\n",
    "$$\n",
    "y = \\beta_{0} + \\beta_{1} \\cdot groupingVariable + \\beta_{2} \\cdot x_{1} + \\beta_{3} \\cdot x_{2} + ... + \\beta_{n} \\cdot x_{n} + \\epsilon\n",
    "$$\n"
   ]
  },
  {
   "cell_type": "code",
   "execution_count": 10,
   "id": "24d09d1c",
   "metadata": {},
   "outputs": [],
   "source": [
    "formula = \"post_watch_time ~ homepage_version + baseline_watch_time + age + session_count_last_week + C(subscription_status) + C(device_type) + C(region)\""
   ]
  },
  {
   "cell_type": "code",
   "execution_count": 14,
   "id": "9d9b3f6e",
   "metadata": {},
   "outputs": [],
   "source": [
    "model = ols(formula=formula, data=data).fit()"
   ]
  },
  {
   "cell_type": "code",
   "execution_count": 15,
   "id": "86f6f453",
   "metadata": {},
   "outputs": [
    {
     "data": {
      "text/html": [
       "<table class=\"simpletable\">\n",
       "<caption>OLS Regression Results</caption>\n",
       "<tr>\n",
       "  <th>Dep. Variable:</th>     <td>post_watch_time</td> <th>  R-squared:         </th> <td>   0.715</td> \n",
       "</tr>\n",
       "<tr>\n",
       "  <th>Model:</th>                   <td>OLS</td>       <th>  Adj. R-squared:    </th> <td>   0.710</td> \n",
       "</tr>\n",
       "<tr>\n",
       "  <th>Method:</th>             <td>Least Squares</td>  <th>  F-statistic:       </th> <td>   136.8</td> \n",
       "</tr>\n",
       "<tr>\n",
       "  <th>Date:</th>             <td>Sat, 10 May 2025</td> <th>  Prob (F-statistic):</th> <td>1.25e-127</td>\n",
       "</tr>\n",
       "<tr>\n",
       "  <th>Time:</th>                 <td>16:37:11</td>     <th>  Log-Likelihood:    </th> <td> -1854.9</td> \n",
       "</tr>\n",
       "<tr>\n",
       "  <th>No. Observations:</th>      <td>   500</td>      <th>  AIC:               </th> <td>   3730.</td> \n",
       "</tr>\n",
       "<tr>\n",
       "  <th>Df Residuals:</th>          <td>   490</td>      <th>  BIC:               </th> <td>   3772.</td> \n",
       "</tr>\n",
       "<tr>\n",
       "  <th>Df Model:</th>              <td>     9</td>      <th>                     </th>     <td> </td>    \n",
       "</tr>\n",
       "<tr>\n",
       "  <th>Covariance Type:</th>      <td>nonrobust</td>    <th>                     </th>     <td> </td>    \n",
       "</tr>\n",
       "</table>\n",
       "<table class=\"simpletable\">\n",
       "<tr>\n",
       "                  <td></td>                     <th>coef</th>     <th>std err</th>      <th>t</th>      <th>P>|t|</th>  <th>[0.025</th>    <th>0.975]</th>  \n",
       "</tr>\n",
       "<tr>\n",
       "  <th>Intercept</th>                         <td>   -3.6494</td> <td>    2.621</td> <td>   -1.392</td> <td> 0.164</td> <td>   -8.800</td> <td>    1.501</td>\n",
       "</tr>\n",
       "<tr>\n",
       "  <th>C(subscription_status)[T.Premium]</th> <td>   14.5143</td> <td>    1.032</td> <td>   14.067</td> <td> 0.000</td> <td>   12.487</td> <td>   16.542</td>\n",
       "</tr>\n",
       "<tr>\n",
       "  <th>C(device_type)[T.Mobile]</th>          <td>   -4.6814</td> <td>    1.000</td> <td>   -4.683</td> <td> 0.000</td> <td>   -6.646</td> <td>   -2.717</td>\n",
       "</tr>\n",
       "<tr>\n",
       "  <th>C(device_type)[T.Tablet]</th>          <td>   -0.5912</td> <td>    1.446</td> <td>   -0.409</td> <td> 0.683</td> <td>   -3.433</td> <td>    2.251</td>\n",
       "</tr>\n",
       "<tr>\n",
       "  <th>C(region)[T.EU]</th>                   <td>   -0.2572</td> <td>    1.171</td> <td>   -0.220</td> <td> 0.826</td> <td>   -2.559</td> <td>    2.044</td>\n",
       "</tr>\n",
       "<tr>\n",
       "  <th>C(region)[T.US]</th>                   <td>    2.5332</td> <td>    1.082</td> <td>    2.341</td> <td> 0.020</td> <td>    0.407</td> <td>    4.660</td>\n",
       "</tr>\n",
       "<tr>\n",
       "  <th>homepage_version</th>                  <td>   10.4485</td> <td>    0.903</td> <td>   11.565</td> <td> 0.000</td> <td>    8.673</td> <td>   12.224</td>\n",
       "</tr>\n",
       "<tr>\n",
       "  <th>baseline_watch_time</th>               <td>    0.3840</td> <td>    0.015</td> <td>   25.269</td> <td> 0.000</td> <td>    0.354</td> <td>    0.414</td>\n",
       "</tr>\n",
       "<tr>\n",
       "  <th>age</th>                               <td>   -0.0899</td> <td>    0.034</td> <td>   -2.671</td> <td> 0.008</td> <td>   -0.156</td> <td>   -0.024</td>\n",
       "</tr>\n",
       "<tr>\n",
       "  <th>session_count_last_week</th>           <td>    1.4676</td> <td>    0.144</td> <td>   10.159</td> <td> 0.000</td> <td>    1.184</td> <td>    1.751</td>\n",
       "</tr>\n",
       "</table>\n",
       "<table class=\"simpletable\">\n",
       "<tr>\n",
       "  <th>Omnibus:</th>       <td> 0.397</td> <th>  Durbin-Watson:     </th> <td>   2.046</td>\n",
       "</tr>\n",
       "<tr>\n",
       "  <th>Prob(Omnibus):</th> <td> 0.820</td> <th>  Jarque-Bera (JB):  </th> <td>   0.238</td>\n",
       "</tr>\n",
       "<tr>\n",
       "  <th>Skew:</th>          <td>-0.013</td> <th>  Prob(JB):          </th> <td>   0.888</td>\n",
       "</tr>\n",
       "<tr>\n",
       "  <th>Kurtosis:</th>      <td> 3.104</td> <th>  Cond. No.          </th> <td>    632.</td>\n",
       "</tr>\n",
       "</table><br/><br/>Notes:<br/>[1] Standard Errors assume that the covariance matrix of the errors is correctly specified."
      ],
      "text/latex": [
       "\\begin{center}\n",
       "\\begin{tabular}{lclc}\n",
       "\\toprule\n",
       "\\textbf{Dep. Variable:}                     & post\\_watch\\_time & \\textbf{  R-squared:         } &     0.715   \\\\\n",
       "\\textbf{Model:}                             &        OLS        & \\textbf{  Adj. R-squared:    } &     0.710   \\\\\n",
       "\\textbf{Method:}                            &   Least Squares   & \\textbf{  F-statistic:       } &     136.8   \\\\\n",
       "\\textbf{Date:}                              &  Sat, 10 May 2025 & \\textbf{  Prob (F-statistic):} & 1.25e-127   \\\\\n",
       "\\textbf{Time:}                              &      16:37:11     & \\textbf{  Log-Likelihood:    } &   -1854.9   \\\\\n",
       "\\textbf{No. Observations:}                  &          500      & \\textbf{  AIC:               } &     3730.   \\\\\n",
       "\\textbf{Df Residuals:}                      &          490      & \\textbf{  BIC:               } &     3772.   \\\\\n",
       "\\textbf{Df Model:}                          &            9      & \\textbf{                     } &             \\\\\n",
       "\\textbf{Covariance Type:}                   &     nonrobust     & \\textbf{                     } &             \\\\\n",
       "\\bottomrule\n",
       "\\end{tabular}\n",
       "\\begin{tabular}{lcccccc}\n",
       "                                            & \\textbf{coef} & \\textbf{std err} & \\textbf{t} & \\textbf{P$> |$t$|$} & \\textbf{[0.025} & \\textbf{0.975]}  \\\\\n",
       "\\midrule\n",
       "\\textbf{Intercept}                          &      -3.6494  &        2.621     &    -1.392  &         0.164        &       -8.800    &        1.501     \\\\\n",
       "\\textbf{C(subscription\\_status)[T.Premium]} &      14.5143  &        1.032     &    14.067  &         0.000        &       12.487    &       16.542     \\\\\n",
       "\\textbf{C(device\\_type)[T.Mobile]}          &      -4.6814  &        1.000     &    -4.683  &         0.000        &       -6.646    &       -2.717     \\\\\n",
       "\\textbf{C(device\\_type)[T.Tablet]}          &      -0.5912  &        1.446     &    -0.409  &         0.683        &       -3.433    &        2.251     \\\\\n",
       "\\textbf{C(region)[T.EU]}                    &      -0.2572  &        1.171     &    -0.220  &         0.826        &       -2.559    &        2.044     \\\\\n",
       "\\textbf{C(region)[T.US]}                    &       2.5332  &        1.082     &     2.341  &         0.020        &        0.407    &        4.660     \\\\\n",
       "\\textbf{homepage\\_version}                  &      10.4485  &        0.903     &    11.565  &         0.000        &        8.673    &       12.224     \\\\\n",
       "\\textbf{baseline\\_watch\\_time}              &       0.3840  &        0.015     &    25.269  &         0.000        &        0.354    &        0.414     \\\\\n",
       "\\textbf{age}                                &      -0.0899  &        0.034     &    -2.671  &         0.008        &       -0.156    &       -0.024     \\\\\n",
       "\\textbf{session\\_count\\_last\\_week}         &       1.4676  &        0.144     &    10.159  &         0.000        &        1.184    &        1.751     \\\\\n",
       "\\bottomrule\n",
       "\\end{tabular}\n",
       "\\begin{tabular}{lclc}\n",
       "\\textbf{Omnibus:}       &  0.397 & \\textbf{  Durbin-Watson:     } &    2.046  \\\\\n",
       "\\textbf{Prob(Omnibus):} &  0.820 & \\textbf{  Jarque-Bera (JB):  } &    0.238  \\\\\n",
       "\\textbf{Skew:}          & -0.013 & \\textbf{  Prob(JB):          } &    0.888  \\\\\n",
       "\\textbf{Kurtosis:}      &  3.104 & \\textbf{  Cond. No.          } &     632.  \\\\\n",
       "\\bottomrule\n",
       "\\end{tabular}\n",
       "%\\caption{OLS Regression Results}\n",
       "\\end{center}\n",
       "\n",
       "Notes: \\newline\n",
       " [1] Standard Errors assume that the covariance matrix of the errors is correctly specified."
      ],
      "text/plain": [
       "<class 'statsmodels.iolib.summary.Summary'>\n",
       "\"\"\"\n",
       "                            OLS Regression Results                            \n",
       "==============================================================================\n",
       "Dep. Variable:        post_watch_time   R-squared:                       0.715\n",
       "Model:                            OLS   Adj. R-squared:                  0.710\n",
       "Method:                 Least Squares   F-statistic:                     136.8\n",
       "Date:                Sat, 10 May 2025   Prob (F-statistic):          1.25e-127\n",
       "Time:                        16:37:11   Log-Likelihood:                -1854.9\n",
       "No. Observations:                 500   AIC:                             3730.\n",
       "Df Residuals:                     490   BIC:                             3772.\n",
       "Df Model:                           9                                         \n",
       "Covariance Type:            nonrobust                                         \n",
       "=====================================================================================================\n",
       "                                        coef    std err          t      P>|t|      [0.025      0.975]\n",
       "-----------------------------------------------------------------------------------------------------\n",
       "Intercept                            -3.6494      2.621     -1.392      0.164      -8.800       1.501\n",
       "C(subscription_status)[T.Premium]    14.5143      1.032     14.067      0.000      12.487      16.542\n",
       "C(device_type)[T.Mobile]             -4.6814      1.000     -4.683      0.000      -6.646      -2.717\n",
       "C(device_type)[T.Tablet]             -0.5912      1.446     -0.409      0.683      -3.433       2.251\n",
       "C(region)[T.EU]                      -0.2572      1.171     -0.220      0.826      -2.559       2.044\n",
       "C(region)[T.US]                       2.5332      1.082      2.341      0.020       0.407       4.660\n",
       "homepage_version                     10.4485      0.903     11.565      0.000       8.673      12.224\n",
       "baseline_watch_time                   0.3840      0.015     25.269      0.000       0.354       0.414\n",
       "age                                  -0.0899      0.034     -2.671      0.008      -0.156      -0.024\n",
       "session_count_last_week               1.4676      0.144     10.159      0.000       1.184       1.751\n",
       "==============================================================================\n",
       "Omnibus:                        0.397   Durbin-Watson:                   2.046\n",
       "Prob(Omnibus):                  0.820   Jarque-Bera (JB):                0.238\n",
       "Skew:                          -0.013   Prob(JB):                        0.888\n",
       "Kurtosis:                       3.104   Cond. No.                         632.\n",
       "==============================================================================\n",
       "\n",
       "Notes:\n",
       "[1] Standard Errors assume that the covariance matrix of the errors is correctly specified.\n",
       "\"\"\""
      ]
     },
     "execution_count": 15,
     "metadata": {},
     "output_type": "execute_result"
    }
   ],
   "source": [
    "model.summary()"
   ]
  },
  {
   "cell_type": "markdown",
   "id": "6e495a20",
   "metadata": {},
   "source": [
    "#### Interpretation:\n",
    "\n",
    "***For `homepage_version`***\n",
    "\n",
    "Coef\tStd Err\tP-value\t95% CI\n",
    "10.45\t0.90\t< 0.001\t[8.67, 12.22]\n",
    "\n",
    "- Estimated treatment effect: New homepage increases watch time by ~10.45 minutes, controlling for other variables.\n",
    "- P-value is very significant (< 0.001), so the effect is unlikely due to chance.\n",
    "- 95% CI is tight and includes the true value you simulated (10) — strong model fit.\n",
    "\n",
    "***Other Variables***:\n",
    "\n",
    "- Baseline watch time: Strong positive effect (~0.38 per minute)\n",
    "- Age: Small negative impact (~-0.09 per year)\n",
    "- Premium users: Watch ~14.5 minutes more\n",
    "- Mobile users: Watch ~4.7 minutes less\n",
    "- Session count: Strongly predictive (1.47 per session)\n",
    "- Tablet and EU are not significant — p > 0.05\n",
    "\n",
    "***Model Quality***:\n",
    "\n",
    "- R-squared = 0.715: The model explains 71.5% of the variance — excellent for behavioral data.\n",
    "- Durbin-Watson ~2: No evidence of autocorrelation in residuals."
   ]
  },
  {
   "cell_type": "markdown",
   "id": "dbdd2aaf",
   "metadata": {},
   "source": []
  }
 ],
 "metadata": {
  "kernelspec": {
   "display_name": "Python 3",
   "language": "python",
   "name": "python3"
  },
  "language_info": {
   "codemirror_mode": {
    "name": "ipython",
    "version": 3
   },
   "file_extension": ".py",
   "mimetype": "text/x-python",
   "name": "python",
   "nbconvert_exporter": "python",
   "pygments_lexer": "ipython3",
   "version": "3.12.1"
  }
 },
 "nbformat": 4,
 "nbformat_minor": 5
}
