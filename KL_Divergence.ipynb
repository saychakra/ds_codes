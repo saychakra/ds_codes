{
 "cells": [
  {
   "cell_type": "code",
   "execution_count": 2,
   "id": "cff5d43a",
   "metadata": {},
   "outputs": [],
   "source": [
    "import math\n",
    "import numpy as np"
   ]
  },
  {
   "cell_type": "markdown",
   "id": "021e7c67",
   "metadata": {},
   "source": [
    "#### Basic formula:\n",
    "\n",
    "In case of discrete\n",
    "$$\n",
    "D_{KL}(P || Q) = \\Sigma P(x) \\cdot log(\\frac{P(x)}{Q(x)})\n",
    "$$\n",
    "\n",
    "In case of continuous\n",
    "$$\n",
    "D_{KL}(P || Q) = \\int  P(x) \\cdot log(\\frac{P(x)}{Q(x)}) dx\n",
    "$$"
   ]
  },
  {
   "cell_type": "code",
   "execution_count": 7,
   "id": "377808ed",
   "metadata": {},
   "outputs": [],
   "source": [
    "def KL_div(p, q):\n",
    "    eps = 1e-100 ## declaring   \n",
    "    kl = 0.0\n",
    "\n",
    "    for pi, qi in zip(p, q):\n",
    "        if pi == 0:\n",
    "            continue\n",
    "        else:\n",
    "            kl += pi * math.log(pi / (qi+eps))\n",
    "    return kl\n"
   ]
  },
  {
   "cell_type": "code",
   "execution_count": 8,
   "id": "1305c481",
   "metadata": {},
   "outputs": [
    {
     "name": "stdout",
     "output_type": "stream",
     "text": [
      "KL(P || Q): 0.2263\n"
     ]
    }
   ],
   "source": [
    "P = [0.9, 0.1]\n",
    "Q = [0.6, 0.4]\n",
    "\n",
    "print(f\"KL(P || Q): {KL_div(P, Q):.4f}\")  # Should be ~0.265\n"
   ]
  },
  {
   "cell_type": "code",
   "execution_count": null,
   "id": "3be8350e",
   "metadata": {},
   "outputs": [],
   "source": []
  }
 ],
 "metadata": {
  "kernelspec": {
   "display_name": "Python 3",
   "language": "python",
   "name": "python3"
  },
  "language_info": {
   "codemirror_mode": {
    "name": "ipython",
    "version": 3
   },
   "file_extension": ".py",
   "mimetype": "text/x-python",
   "name": "python",
   "nbconvert_exporter": "python",
   "pygments_lexer": "ipython3",
   "version": "3.12.1"
  }
 },
 "nbformat": 4,
 "nbformat_minor": 5
}
