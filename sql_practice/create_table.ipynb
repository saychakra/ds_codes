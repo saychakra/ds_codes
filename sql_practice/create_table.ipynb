{
 "cells": [
  {
   "cell_type": "markdown",
   "id": "b8db784c",
   "metadata": {},
   "source": [
    "### Generic imports and delcaring the cursor"
   ]
  },
  {
   "cell_type": "code",
   "execution_count": 1,
   "id": "07c0accf",
   "metadata": {},
   "outputs": [],
   "source": [
    "import sqlite3\n",
    "import pandas as pd\n",
    "from IPython.core.magic import register_cell_magic\n",
    "\n",
    "# Connect to SQLite database (or create it)\n",
    "conn = sqlite3.connect('messages.db')\n",
    "cursor = conn.cursor()"
   ]
  },
  {
   "cell_type": "code",
   "execution_count": 2,
   "id": "451dc411",
   "metadata": {},
   "outputs": [],
   "source": [
    "# Create table\n",
    "cursor.execute('''\n",
    "CREATE TABLE IF NOT EXISTS messages (\n",
    "    user_id TEXT,\n",
    "    user_name TEXT,\n",
    "    date TEXT,\n",
    "    message_sent INTEGER,\n",
    "    message_received INTEGER\n",
    ")\n",
    "''')\n",
    "\n",
    "# Insert data\n",
    "data = [\n",
    "    ('324A33', 'Sunny Kim', '2020-10-01', 10, 20),\n",
    "    ('314A33', 'Bobby Tim', '2020-10-01', 50, 10),\n",
    "    ('784B33', 'Andrew Harp', '2020-10-01', 30, 5),\n",
    "    ('364E34', 'Andrew Lean', '2020-10-02', 10, 0),\n",
    "    ('114A33', 'Jalinn Kim', '2020-10-01', 20, 100),\n",
    "    ('444B33', 'Sam Turner', '2020-10-01', 40, 120)\n",
    "]\n",
    "\n",
    "cursor.executemany('''\n",
    "INSERT INTO messages (user_id, user_name, date, message_sent, message_received)\n",
    "VALUES (?, ?, ?, ?, ?)\n",
    "''', data)\n",
    "\n",
    "# Commit and close\n",
    "conn.commit()"
   ]
  },
  {
   "cell_type": "markdown",
   "id": "64ba01cf",
   "metadata": {},
   "source": [
    "### Having a function which will allow us to run any sql query in a cell in a jupyter notebook"
   ]
  },
  {
   "cell_type": "code",
   "execution_count": 3,
   "id": "b052fa9b",
   "metadata": {},
   "outputs": [],
   "source": [
    "@register_cell_magic\n",
    "def sql(line, cell):\n",
    "    sql_query = cell.strip()\n",
    "    cursor.execute(sql_query)\n",
    "    rows = cursor.fetchall()\n",
    "    df = pd.DataFrame(rows, columns=[desc[0] for desc in cursor.description])\n",
    "    display(df)"
   ]
  },
  {
   "cell_type": "code",
   "execution_count": 4,
   "id": "b2e4918a",
   "metadata": {},
   "outputs": [
    {
     "data": {
      "text/html": [
       "<div>\n",
       "<style scoped>\n",
       "    .dataframe tbody tr th:only-of-type {\n",
       "        vertical-align: middle;\n",
       "    }\n",
       "\n",
       "    .dataframe tbody tr th {\n",
       "        vertical-align: top;\n",
       "    }\n",
       "\n",
       "    .dataframe thead th {\n",
       "        text-align: right;\n",
       "    }\n",
       "</style>\n",
       "<table border=\"1\" class=\"dataframe\">\n",
       "  <thead>\n",
       "    <tr style=\"text-align: right;\">\n",
       "      <th></th>\n",
       "      <th>user_id</th>\n",
       "      <th>user_name</th>\n",
       "      <th>date</th>\n",
       "      <th>message_sent</th>\n",
       "      <th>message_received</th>\n",
       "    </tr>\n",
       "  </thead>\n",
       "  <tbody>\n",
       "    <tr>\n",
       "      <th>0</th>\n",
       "      <td>324A33</td>\n",
       "      <td>Sunny Kim</td>\n",
       "      <td>2020-10-01</td>\n",
       "      <td>10</td>\n",
       "      <td>20</td>\n",
       "    </tr>\n",
       "    <tr>\n",
       "      <th>1</th>\n",
       "      <td>324A33</td>\n",
       "      <td>Sunny Kim</td>\n",
       "      <td>2020-10-01</td>\n",
       "      <td>10</td>\n",
       "      <td>20</td>\n",
       "    </tr>\n",
       "    <tr>\n",
       "      <th>2</th>\n",
       "      <td>324A33</td>\n",
       "      <td>Sunny Kim</td>\n",
       "      <td>2020-10-01</td>\n",
       "      <td>10</td>\n",
       "      <td>20</td>\n",
       "    </tr>\n",
       "  </tbody>\n",
       "</table>\n",
       "</div>"
      ],
      "text/plain": [
       "  user_id  user_name        date  message_sent  message_received\n",
       "0  324A33  Sunny Kim  2020-10-01            10                20\n",
       "1  324A33  Sunny Kim  2020-10-01            10                20\n",
       "2  324A33  Sunny Kim  2020-10-01            10                20"
      ]
     },
     "metadata": {},
     "output_type": "display_data"
    }
   ],
   "source": [
    "%%sql\n",
    "SELECT * FROM messages where user_id = '324A33';"
   ]
  },
  {
   "cell_type": "code",
   "execution_count": 18,
   "id": "a985a77a",
   "metadata": {},
   "outputs": [
    {
     "data": {
      "text/html": [
       "<div>\n",
       "<style scoped>\n",
       "    .dataframe tbody tr th:only-of-type {\n",
       "        vertical-align: middle;\n",
       "    }\n",
       "\n",
       "    .dataframe tbody tr th {\n",
       "        vertical-align: top;\n",
       "    }\n",
       "\n",
       "    .dataframe thead th {\n",
       "        text-align: right;\n",
       "    }\n",
       "</style>\n",
       "<table border=\"1\" class=\"dataframe\">\n",
       "  <thead>\n",
       "    <tr style=\"text-align: right;\">\n",
       "      <th></th>\n",
       "      <th>user_id</th>\n",
       "      <th>max_message_sent_received_ratio</th>\n",
       "    </tr>\n",
       "  </thead>\n",
       "  <tbody>\n",
       "    <tr>\n",
       "      <th>0</th>\n",
       "      <td>784B33</td>\n",
       "      <td>6</td>\n",
       "    </tr>\n",
       "  </tbody>\n",
       "</table>\n",
       "</div>"
      ],
      "text/plain": [
       "  user_id  max_message_sent_received_ratio\n",
       "0  784B33                                6"
      ]
     },
     "metadata": {},
     "output_type": "display_data"
    }
   ],
   "source": [
    "%%sql\n",
    "select user_id, max_message_sent_received_ratio from\n",
    "(\n",
    "    select\n",
    "        user_id\n",
    "        , max(message_sent_received_ratio) as max_message_sent_received_ratio\n",
    "    from \n",
    "    (\n",
    "        select\n",
    "            *\n",
    "            , (message_sent / coalesce(message_received, 0)) as message_sent_received_ratio\n",
    "        from messages\n",
    "    )\n",
    "    group by 1\n",
    ")\n",
    "where max_message_sent_received_ratio is not null\n",
    "order by max_message_sent_received_ratio desc\n",
    "limit 1;"
   ]
  },
  {
   "cell_type": "code",
   "execution_count": null,
   "id": "5a3d608b",
   "metadata": {},
   "outputs": [],
   "source": []
  }
 ],
 "metadata": {
  "kernelspec": {
   "display_name": "Python 3",
   "language": "python",
   "name": "python3"
  },
  "language_info": {
   "codemirror_mode": {
    "name": "ipython",
    "version": 3
   },
   "file_extension": ".py",
   "mimetype": "text/x-python",
   "name": "python",
   "nbconvert_exporter": "python",
   "pygments_lexer": "ipython3",
   "version": "3.12.1"
  }
 },
 "nbformat": 4,
 "nbformat_minor": 5
}
