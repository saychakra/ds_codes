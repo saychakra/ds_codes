{
 "cells": [
  {
   "cell_type": "markdown",
   "id": "d51c5415",
   "metadata": {},
   "source": [
    "#### Formula for LCG:\n",
    "\n",
    "$$\n",
    "X_{k+1} = (a \\cdot X_k + c) \\mod m\n",
    "$$"
   ]
  },
  {
   "cell_type": "code",
   "execution_count": 20,
   "id": "2831d87e",
   "metadata": {},
   "outputs": [],
   "source": [
    "import matplotlib.pyplot as plt\n",
    "import math\n",
    "import numpy as np"
   ]
  },
  {
   "cell_type": "code",
   "execution_count": 2,
   "id": "9642bcc4",
   "metadata": {},
   "outputs": [],
   "source": [
    "class LCG:\n",
    "    def __init__(self, seed=0):\n",
    "        self.m = 2**31 - 1\n",
    "        self.a = 16807\n",
    "        self.c = 0\n",
    "        self.state = seed % self.m # this is the current variable of Xk\n",
    "    \n",
    "    def rand01(self):\n",
    "        self.state = (self.a * self.state + self.c) % self.m\n",
    "        ## return in the range of [0, 1)\n",
    "        return self.state / self.m\n",
    "    \n",
    "    def uniform(self, upper, lower):\n",
    "        ## scale to [lower, upper)\n",
    "        return lower + (upper - lower) * self.rand01()\n",
    "    \n",
    "    def normal(self, mu, sigma):\n",
    "        u1 = self.rand01()\n",
    "        u2 = self.rand01()\n",
    "\n",
    "        z0 = math.sqrt(-2 * math.log(u1)) * math.cos(2 * math.pi * u2)\n",
    "        # z1 = math.sqrt(-2 * math.log(u1)) * math.sin(2 * math.pi * u2)\n",
    "\n",
    "        ## scale to a general normal distribution with a given mu and sigma\n",
    "        x = mu + z0 * sigma\n",
    "        return x"
   ]
  },
  {
   "cell_type": "markdown",
   "id": "dffe2b44",
   "metadata": {},
   "source": [
    "#### Generate and plot random numbers within a range which resemble the uniform distribution"
   ]
  },
  {
   "cell_type": "code",
   "execution_count": 3,
   "id": "2a0b0650",
   "metadata": {},
   "outputs": [],
   "source": [
    "n = 1000\n",
    "upper, lower = 5.0, 100.0"
   ]
  },
  {
   "cell_type": "code",
   "execution_count": 4,
   "id": "847a804e",
   "metadata": {},
   "outputs": [
    {
     "data": {
      "text/plain": [
       "(array([ 89.,  92., 100.,  97.,  89., 114., 111., 100.,  97., 111.]),\n",
       " array([ 5.15075631, 14.63255795, 24.1143596 , 33.59616125, 43.0779629 ,\n",
       "        52.55976455, 62.04156619, 71.52336784, 81.00516949, 90.48697114,\n",
       "        99.96877279]),\n",
       " <BarContainer object of 10 artists>)"
      ]
     },
     "execution_count": 4,
     "metadata": {},
     "output_type": "execute_result"
    },
    {
     "data": {
      "image/png": "[encoded data removed]",
      "text/plain": [
       "<Figure size 640x480 with 1 Axes>"
      ]
     },
     "metadata": {},
     "output_type": "display_data"
    }
   ],
   "source": [
    "rng = LCG(seed=42)\n",
    "data = [rng.uniform(upper, lower) for _ in range(n)]\n",
    "## plot a histogram\n",
    "\n",
    "plt.hist(data, bins=10)"
   ]
  },
  {
   "cell_type": "markdown",
   "id": "6501ba4e",
   "metadata": {},
   "source": [
    "#### Generate and plot random numbers with a given mean and standard deviation from a normal distribution"
   ]
  },
  {
   "cell_type": "code",
   "execution_count": 11,
   "id": "519b927a",
   "metadata": {},
   "outputs": [],
   "source": [
    "mu = 0\n",
    "sigma = 1\n",
    "normal_data = [rng.normal(mu, sigma) for _ in range(n)]"
   ]
  },
  {
   "cell_type": "code",
   "execution_count": 12,
   "id": "478961f4",
   "metadata": {},
   "outputs": [
    {
     "data": {
      "text/plain": [
       "(array([  6.,  37.,  83., 179., 258., 240., 124.,  50.,  20.,   3.]),\n",
       " array([-2.95186341, -2.32535095, -1.69883848, -1.07232602, -0.44581356,\n",
       "         0.18069891,  0.80721137,  1.43372383,  2.06023629,  2.68674876,\n",
       "         3.31326122]),\n",
       " <BarContainer object of 10 artists>)"
      ]
     },
     "execution_count": 12,
     "metadata": {},
     "output_type": "execute_result"
    },
    {
     "data": {
      "image/png": "[encoded data removed]",
      "text/plain": [
       "<Figure size 640x480 with 1 Axes>"
      ]
     },
     "metadata": {},
     "output_type": "display_data"
    }
   ],
   "source": [
    "plt.hist(normal_data, bins=10)"
   ]
  },
  {
   "cell_type": "code",
   "execution_count": 19,
   "id": "f2f41be7",
   "metadata": {},
   "outputs": [
    {
     "data": {
      "text/plain": [
       "(0, 1)"
      ]
     },
     "execution_count": 19,
     "metadata": {},
     "output_type": "execute_result"
    }
   ],
   "source": [
    "round(np.mean(normal_data)), round(np.std(normal_data))"
   ]
  },
  {
   "cell_type": "code",
   "execution_count": null,
   "id": "abd78b5b",
   "metadata": {},
   "outputs": [],
   "source": []
  }
 ],
 "metadata": {
  "kernelspec": {
   "display_name": "Python 3",
   "language": "python",
   "name": "python3"
  },
  "language_info": {
   "codemirror_mode": {
    "name": "ipython",
    "version": 3
   },
   "file_extension": ".py",
   "mimetype": "text/x-python",
   "name": "python",
   "nbconvert_exporter": "python",
   "pygments_lexer": "ipython3",
   "version": "3.12.1"
  }
 },
 "nbformat": 4,
 "nbformat_minor": 5
}
